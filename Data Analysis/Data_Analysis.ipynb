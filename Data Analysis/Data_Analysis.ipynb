{
 "cells": [
  {
   "cell_type": "markdown",
   "metadata": {},
   "source": [
    "# **Data Mining And Wrangling **\n",
    "\n",
    "### **Data source:** *https://www.imdb.com/chart/top/*\n",
    "####  Used different methods to get the get the data but we concluded with the *Top 250 Movies* from IMDB using Scrapy and spider"
   ]
  },
  {
   "cell_type": "markdown",
   "metadata": {},
   "source": [
    "##### Load the data"
   ]
  },
  {
   "cell_type": "code",
   "execution_count": null,
   "metadata": {},
   "outputs": [],
   "source": [
    "import pandas as pd \n",
    "import numpy as np\n",
    "import seaborn as sns\n",
    "import missingno as mns \n",
    "import warnings\n",
    "import matplotlib.pyplot as plt\n",
    "warnings.filterwarnings('ignore')\n",
    "import requests\n",
    "import json\n",
    "from datetime import date\n",
    "from collections import Counter\n",
    "from wordcloud import WordCloud\n"
   ]
  },
  {
   "cell_type": "markdown",
   "metadata": {},
   "source": [
    "### Since we saved the dataset as a JSON file, We had to convert it to csv format removing the the [] and [[]] formats (lists and nested lists)"
   ]
  },
  {
   "cell_type": "code",
   "execution_count": 1,
   "metadata": {},
   "outputs": [
    {
     "name": "stderr",
     "output_type": "stream",
     "text": [
      "<>:2: SyntaxWarning: invalid escape sequence '\\S'\n",
      "<>:2: SyntaxWarning: invalid escape sequence '\\S'\n",
      "C:\\Users\\EMMANUEL NSUBUGA\\AppData\\Local\\Temp\\ipykernel_3292\\3240547807.py:2: SyntaxWarning: invalid escape sequence '\\S'\n",
      "  json_file_path = \"D:\\Scraping_IMDB_250_movies_using_Scrapy\\imdbscrapper\\IMDB_250_movies.json\"\n",
      "C:\\Users\\EMMANUEL NSUBUGA\\AppData\\Local\\Temp\\ipykernel_3292\\3240547807.py:2: SyntaxWarning: invalid escape sequence '\\S'\n",
      "  json_file_path = \"D:\\Scraping_IMDB_250_movies_using_Scrapy\\imdbscrapper\\IMDB_250_movies.json\"\n"
     ]
    },
    {
     "ename": "NameError",
     "evalue": "name 'json' is not defined",
     "output_type": "error",
     "traceback": [
      "\u001b[1;31m---------------------------------------------------------------------------\u001b[0m",
      "\u001b[1;31mNameError\u001b[0m                                 Traceback (most recent call last)",
      "Cell \u001b[1;32mIn[1], line 5\u001b[0m\n\u001b[0;32m      2\u001b[0m json_file_path \u001b[38;5;241m=\u001b[39m \u001b[38;5;124m\"\u001b[39m\u001b[38;5;124mD:\u001b[39m\u001b[38;5;124m\\\u001b[39m\u001b[38;5;124mScraping_IMDB_250_movies_using_Scrapy\u001b[39m\u001b[38;5;124m\\\u001b[39m\u001b[38;5;124mimdbscrapper\u001b[39m\u001b[38;5;124m\\\u001b[39m\u001b[38;5;124mIMDB_250_movies.json\u001b[39m\u001b[38;5;124m\"\u001b[39m\n\u001b[0;32m      4\u001b[0m \u001b[38;5;28;01mwith\u001b[39;00m \u001b[38;5;28mopen\u001b[39m(json_file_path, \u001b[38;5;124m\"\u001b[39m\u001b[38;5;124mr\u001b[39m\u001b[38;5;124m\"\u001b[39m, encoding\u001b[38;5;241m=\u001b[39m\u001b[38;5;124m\"\u001b[39m\u001b[38;5;124mutf-8\u001b[39m\u001b[38;5;124m\"\u001b[39m) \u001b[38;5;28;01mas\u001b[39;00m file:\n\u001b[1;32m----> 5\u001b[0m     data \u001b[38;5;241m=\u001b[39m \u001b[43mjson\u001b[49m\u001b[38;5;241m.\u001b[39mload(file)\n\u001b[0;32m      7\u001b[0m \u001b[38;5;66;03m# Convert list values to plain values\u001b[39;00m\n\u001b[0;32m      8\u001b[0m \u001b[38;5;28;01mfor\u001b[39;00m movie \u001b[38;5;129;01min\u001b[39;00m data:\n",
      "\u001b[1;31mNameError\u001b[0m: name 'json' is not defined"
     ]
    }
   ],
   "source": [
    "\n",
    "# Load the JSON file\n",
    "json_file_path = \"D:\\Scraping_IMDB_250_movies_using_Scrapy\\imdbscrapper\\IMDB_250_movies.json\"\n",
    "\n",
    "with open(json_file_path, \"r\", encoding=\"utf-8\") as file:\n",
    "    data = json.load(file)\n",
    "\n",
    "# Convert list values to plain values\n",
    "for movie in data:\n",
    "    for key, value in movie.items():\n",
    "        if isinstance(value, list):\n",
    "            if all(isinstance(i, list) for i in value):  # If nested lists exist, flatten them\n",
    "                movie[key] = \", \".join([\", \".join(map(str, sublist)) for sublist in value])\n",
    "            else:\n",
    "                movie[key] = \", \".join(map(str, value))\n",
    "\n",
    "# Convert to DataFrame\n",
    "df = pd.DataFrame(data)\n",
    "\n",
    "# Save as CSV\n",
    "csv_file_path = \"IMDB_250_movies.csv\"\n",
    "df.to_csv(csv_file_path, index=False, encoding=\"utf-8\")\n",
    "\n",
    "csv_file_path\n"
   ]
  },
  {
   "cell_type": "markdown",
   "metadata": {},
   "source": [
    "#### Reading the csv Dataset "
   ]
  },
  {
   "cell_type": "code",
   "execution_count": null,
   "metadata": {},
   "outputs": [],
   "source": [
    "## reading the csv dataset \n",
    "df = pd.read_csv(\"IMDB_250_movies.csv\")\n",
    "df.head(6)"
   ]
  },
  {
   "cell_type": "markdown",
   "metadata": {},
   "source": [
    "## **Exploratory Data Analysis**"
   ]
  },
  {
   "cell_type": "code",
   "execution_count": null,
   "metadata": {},
   "outputs": [],
   "source": [
    "## checking the shape of the dataset for information\n",
    "df.info()"
   ]
  },
  {
   "cell_type": "markdown",
   "metadata": {},
   "source": [
    "### Now we can use the OMDB API to get the other attributes of the dataset i.e. Main Actors, Budget, Box Office Gross, and Awards"
   ]
  },
  {
   "cell_type": "code",
   "execution_count": null,
   "metadata": {},
   "outputs": [],
   "source": [
    "# OMDb API Key\n",
    "OMDB_API_KEY = \"60fded84\"\n",
    "\n",
    "# Function to fetch movie details from OMDb API\n",
    "def fetch_movie_details(title):\n",
    "    url = f\"http://www.omdbapi.com/?t={title}&apikey={OMDB_API_KEY}\"\n",
    "    \n",
    "    response = requests.get(url)\n",
    "    \n",
    "    if response.status_code == 200:\n",
    "        data = response.json()\n",
    "        \n",
    "        # Check if the response is valid\n",
    "        if data.get(\"Response\") == \"True\":\n",
    "            return {\n",
    "                \"title\": data.get(\"Title\", title),  # Ensure title matches\n",
    "                \"Cast (Main Actors)\": data.get(\"Actors\", \"N/A\"),\n",
    "                \"Budget\": \"N/A\",  # OMDb does not provide budget info\n",
    "                \"Box Office Gross\": data.get(\"BoxOffice\", \"N/A\"),\n",
    "                \"Awards\": data.get(\"Awards\", \"N/A\")\n",
    "            }\n",
    "    \n",
    "    # If no valid response, return empty data\n",
    "    return {\n",
    "        \"title\": title,\n",
    "        \"Cast (Main Actors)\": \"N/A\",\n",
    "        \"Budget\": \"N/A\",\n",
    "        \"Box Office Gross\": \"N/A\",\n",
    "        \"Awards\": \"N/A\"\n",
    "    }\n",
    "\n",
    "# Load your existing CSV file\n",
    "existing_csv = \"IMDB_250_movies.csv\"\n",
    "df = pd.read_csv(existing_csv)\n",
    "\n",
    "# Fetch details for each movie\n",
    "additional_data = [fetch_movie_details(title) for title in df[\"title\"]]\n",
    "\n",
    "# Convert the fetched data into a DataFrame\n",
    "extra_df = pd.DataFrame(additional_data)\n",
    "\n",
    "# Merge with the existing DataFrame\n",
    "df = df.merge(extra_df, on=\"title\", how=\"left\")\n",
    "\n",
    "# Save updated data\n",
    "new_df_path = \"Final_IMDB_250_movies_with_OMDB.csv\"\n",
    "df.to_csv(new_df_path, index=False, encoding=\"utf-8\")\n",
    "\n",
    "print(f\"Updated CSV saved at: {new_df_path}\")\n"
   ]
  },
  {
   "cell_type": "markdown",
   "metadata": {},
   "source": [
    "## **Cleaning Data** "
   ]
  },
  {
   "cell_type": "code",
   "execution_count": null,
   "metadata": {},
   "outputs": [],
   "source": [
    "df1 = pd.read_csv(\"Final_IMDB_250_movies_with_OMDB.csv\")\n",
    "\n",
    "df1.columns\n"
   ]
  },
  {
   "cell_type": "markdown",
   "metadata": {},
   "source": [
    "## **Visualizing the Missing Values**"
   ]
  },
  {
   "cell_type": "code",
   "execution_count": null,
   "metadata": {},
   "outputs": [],
   "source": [
    "#### checking for missing values in the Box Office column\n",
    "mns.bar(df1)"
   ]
  },
  {
   "cell_type": "code",
   "execution_count": null,
   "metadata": {},
   "outputs": [],
   "source": [
    "#### checking for missing values in the Box Office column\n",
    "missing_values = df1.isnull().sum()\n",
    "\n",
    "missing_values"
   ]
  },
  {
   "cell_type": "code",
   "execution_count": null,
   "metadata": {},
   "outputs": [],
   "source": [
    "### Dropping the Budget column\n",
    "#The Budget column is not necessary for the analysis since it is only missing values, so we can drop it from the data frame.\n",
    "\n",
    "df2 = df1.drop(columns=[\"Budget\"])\n",
    "\n",
    "df2.columns\n"
   ]
  },
  {
   "cell_type": "code",
   "execution_count": null,
   "metadata": {},
   "outputs": [],
   "source": [
    "## checking the missing values in the dataset\n",
    "\n",
    "df2.isnull().sum()"
   ]
  },
  {
   "cell_type": "code",
   "execution_count": null,
   "metadata": {},
   "outputs": [],
   "source": [
    "### Dropping the missing values\n",
    "#Since the missing values are few, we can drop them from the dataset.\n",
    "df3 = df2.dropna()\n",
    "\n"
   ]
  },
  {
   "cell_type": "code",
   "execution_count": null,
   "metadata": {},
   "outputs": [],
   "source": [
    "df3.head(6)"
   ]
  },
  {
   "cell_type": "code",
   "execution_count": null,
   "metadata": {},
   "outputs": [],
   "source": [
    "# checking the missing values in the dataset again\n",
    "df3.isna().sum()\n"
   ]
  },
  {
   "cell_type": "markdown",
   "metadata": {},
   "source": [
    "## **Now we can save the data as a new dataset**"
   ]
  },
  {
   "cell_type": "code",
   "execution_count": null,
   "metadata": {},
   "outputs": [],
   "source": [
    "# saving df3 to a new file\n",
    "df3.to_csv(\"IMDB_250_movies_cleaned2.csv\", index=False)\n"
   ]
  },
  {
   "cell_type": "code",
   "execution_count": null,
   "metadata": {},
   "outputs": [],
   "source": [
    "### Loading the cleaned data\n",
    "cleaned_data = pd.read_csv('IMDB_250_movies_cleaned2.csv')\n",
    "cleaned_data.head(4)"
   ]
  },
  {
   "cell_type": "markdown",
   "metadata": {},
   "source": [
    "### Converting the release_day, month, and year to strings"
   ]
  },
  {
   "cell_type": "code",
   "execution_count": null,
   "metadata": {},
   "outputs": [],
   "source": [
    "cleaned_data[['release_day','release_month','release_year']] = cleaned_data[['release_day','release_month','release_year']].astype('str')"
   ]
  },
  {
   "cell_type": "code",
   "execution_count": null,
   "metadata": {},
   "outputs": [],
   "source": [
    "cleaned_data.dtypes"
   ]
  },
  {
   "cell_type": "markdown",
   "metadata": {},
   "source": [
    "### Now convert the release day, month, and year to day-month-year"
   ]
  },
  {
   "cell_type": "code",
   "execution_count": null,
   "metadata": {},
   "outputs": [],
   "source": [
    "cleaned_data['date'] = pd.to_datetime(cleaned_data['release_year'] + '-' +  cleaned_data['release_month'] + '-'+ cleaned_data['release_day'])\n",
    "cleaned_data['date']"
   ]
  },
  {
   "cell_type": "code",
   "execution_count": null,
   "metadata": {},
   "outputs": [],
   "source": [
    "cleaned_data.head(4)"
   ]
  },
  {
   "cell_type": "markdown",
   "metadata": {},
   "source": [
    "### convert the release_month to the month name"
   ]
  },
  {
   "cell_type": "code",
   "execution_count": null,
   "metadata": {},
   "outputs": [],
   "source": [
    "cleaned_data['Release_Month_name'] = cleaned_data.date.dt.month_name()\n",
    "cleaned_data.head(4)"
   ]
  },
  {
   "cell_type": "markdown",
   "metadata": {},
   "source": [
    "### Getting the release_week_day"
   ]
  },
  {
   "cell_type": "code",
   "execution_count": null,
   "metadata": {},
   "outputs": [],
   "source": [
    "\n",
    "cleaned_data['Release_week_day'] = cleaned_data.date.dt.day_name()"
   ]
  },
  {
   "cell_type": "code",
   "execution_count": null,
   "metadata": {},
   "outputs": [],
   "source": [
    "## viewing the dataframe\n",
    "cleaned_data.head(4)"
   ]
  },
  {
   "cell_type": "code",
   "execution_count": null,
   "metadata": {},
   "outputs": [],
   "source": [
    "## column names\n",
    "cleaned_data.columns"
   ]
  },
  {
   "cell_type": "markdown",
   "metadata": {},
   "source": [
    "### Droping the release day, month since we created a new column of day-month-year and movie_rank because its just a count"
   ]
  },
  {
   "cell_type": "code",
   "execution_count": null,
   "metadata": {},
   "outputs": [],
   "source": [
    "cleaned_reformed = cleaned_data.drop(columns = ['release_day'])\n",
    "cleaned_reformed = cleaned_reformed.drop(columns=['movie_rank'])\n",
    "cleaned_reformed = cleaned_reformed.drop(columns=['release_month'])\n",
    "cleaned_reformed.head(6)"
   ]
  },
  {
   "cell_type": "code",
   "execution_count": null,
   "metadata": {},
   "outputs": [],
   "source": [
    "## renaming the description column to Synopsis\n",
    "cleaned_reformed.rename(columns={'description':'Synopsis'},inplace=True)\n",
    "cleaned_reformed.head(4)\n"
   ]
  },
  {
   "cell_type": "markdown",
   "metadata": {},
   "source": [
    "## **Question 2 Part One**"
   ]
  },
  {
   "cell_type": "code",
   "execution_count": null,
   "metadata": {},
   "outputs": [],
   "source": [
    "## Most common genres\n",
    "genre_data = cleaned_reformed.groupby(['genres'],as_index=None,observed=True)['genres'].agg({'count'})\n",
    "genre_data"
   ]
  },
  {
   "cell_type": "code",
   "execution_count": null,
   "metadata": {},
   "outputs": [],
   "source": [
    "## Extracting  most released genres\n",
    "# The most released genres are below\n",
    "genre_data.loc[genre_data['count'] >= 7][['genres','count']]"
   ]
  },
  {
   "cell_type": "markdown",
   "metadata": {},
   "source": [
    "#### Hence the top released genres are `Drama`, `crime,Drama`, `Biography, Drama, History`,`Animation, Adventure, Comedy` and `Action, Adventure, Sci-Fi`"
   ]
  },
  {
   "cell_type": "code",
   "execution_count": null,
   "metadata": {},
   "outputs": [],
   "source": [
    "## A countplot showing the most release'd genres\n",
    "plt.figure(figsize=(30,10))\n",
    "sns.countplot(data=cleaned_reformed,x='genres')\n",
    "plt.xticks(rotation = 90)\n",
    "plt.title('a countplot showing the most released genres'.title())"
   ]
  },
  {
   "cell_type": "code",
   "execution_count": null,
   "metadata": {},
   "outputs": [],
   "source": [
    "# Split and count genre occurrences\n",
    "all_genres = cleaned_reformed['genres'].dropna().str.split(', ').sum()\n",
    "genre_counts = Counter(all_genres)\n",
    "\n",
    "# Identify the most frequent genre\n",
    "most_frequent_genre = genre_counts.most_common(1)[0]\n",
    "most_frequent_genre\n"
   ]
  },
  {
   "cell_type": "code",
   "execution_count": null,
   "metadata": {},
   "outputs": [],
   "source": [
    "# Generate word cloud\n",
    "wordcloud = WordCloud(width=800, height=400, background_color='black', colormap='viridis')\n",
    "wordcloud.generate_from_frequencies(genre_counts)\n",
    "\n",
    "# Plot word cloud\n",
    "plt.figure(figsize=(10, 5))\n",
    "plt.imshow(wordcloud, interpolation='bilinear')\n",
    "plt.axis('off')\n",
    "plt.title('IMDb Top Movie Genres')\n",
    "plt.show()"
   ]
  },
  {
   "cell_type": "markdown",
   "metadata": {},
   "source": [
    "## **Question 2 Part 2**"
   ]
  },
  {
   "cell_type": "code",
   "execution_count": null,
   "metadata": {},
   "outputs": [],
   "source": [
    "average_rating = cleaned_reformed.agg({'rating':'mean'})\n",
    "average_rating"
   ]
  },
  {
   "cell_type": "markdown",
   "metadata": {},
   "source": [
    "## **Question 2 Part 3**"
   ]
  },
  {
   "cell_type": "code",
   "execution_count": null,
   "metadata": {},
   "outputs": [],
   "source": [
    "## converting the release_year to integer\n",
    "cleaned_reformed['release_year'] = cleaned_reformed['release_year'].astype(int)"
   ]
  },
  {
   "cell_type": "code",
   "execution_count": null,
   "metadata": {},
   "outputs": [],
   "source": [
    "\n",
    "# Set visualization style\n",
    "sns.set_style(\"whitegrid\")\n",
    "\n",
    "# Create subplots\n",
    "fig, axes = plt.subplots(3, 1, figsize=(10, 15))\n",
    "\n",
    "# 1. Genre Distribution\n",
    "sns.barplot(x=list(genre_counts.keys()), y=list(genre_counts.values()), ax=axes[0], palette=\"viridis\")\n",
    "axes[0].set_title(\"Genre Distribution in IMDb Top Movies\")\n",
    "axes[0].set_ylabel(\"Number of Movies\")\n",
    "axes[0].tick_params(axis='x', rotation=45)\n",
    "\n",
    "# 2. IMDb Rating Distribution\n",
    "sns.histplot(cleaned_reformed[\"rating\"], bins=10, kde=True, ax=axes[1], color=\"blue\")\n",
    "axes[1].set_title(\"IMDb Rating Distribution\")\n",
    "axes[1].set_xlabel(\"IMDb Rating\")\n",
    "axes[1].set_ylabel(\"Count\")\n",
    "\n",
    "# 3. Movie Release Decades\n",
    "cleaned_reformed[\"release_decade\"] = (cleaned_reformed[\"release_year\"] // 10) * 10  # Group years into decades\n",
    "decade_counts = cleaned_reformed[\"release_decade\"].value_counts().sort_index()\n",
    "sns.barplot(x=decade_counts.index.astype(str), y=decade_counts.values, ax=axes[2], palette=\"coolwarm\")\n",
    "axes[2].set_title(\"Number of Top Movies by Release Decade\")\n",
    "axes[2].set_xlabel(\"Decade\")\n",
    "axes[2].set_ylabel(\"Number of Movies\")\n",
    "\n",
    "\n",
    "\n",
    "# Adjust layout and display\n",
    "plt.tight_layout()\n",
    "plt.show()\n"
   ]
  },
  {
   "cell_type": "markdown",
   "metadata": {},
   "source": [
    "### **Key Insights from IMDb Top Movies Analysis**  \n",
    "\n",
    " **1. Genre Distribution**  \n",
    "   - **Drama** is the most dominant genre, appearing in most top-rated movies.  \n",
    "   - Other frequently occurring genres include **Crime, Action, and Biography**, showing a preference for intense storytelling and real-life inspirations.  \n",
    "\n",
    " **2. IMDb Rating Distribution**  \n",
    "   - The **average rating is 8.31**, indicating that IMDb's Top Movies are highly rated.  \n",
    "   - Most movies have ratings between **8.0 and 9.0**, with very few falling below 8.0.  \n",
    "\n",
    "\n",
    " **3. Movie Release Decades**  \n",
    "   - The **1990s and 2000s** produced the highest number of top-rated movies.  \n",
    "   - Classic films from earlier decades (e.g., **1970s and 1980s**) still hold strong rankings.  \n",
    "   - Recent decades (**2010s and 2020s**) have fewer movies in the Top List, possibly due to evolving audience preferences or ranking criteria.  \n",
    "\n"
   ]
  },
  {
   "cell_type": "code",
   "execution_count": null,
   "metadata": {},
   "outputs": [],
   "source": [
    "## sorting the data by release_year in descending order\n",
    "Rate_sorted_data = cleaned_reformed.sort_values(by='rating',ascending=False)\n",
    "Rate_sorted_data.head(6)"
   ]
  },
  {
   "cell_type": "markdown",
   "metadata": {},
   "source": [
    "## **WEEK DAYS AND MONTHS IN WHICH MOVIES MOST RELEASED**"
   ]
  },
  {
   "cell_type": "markdown",
   "metadata": {},
   "source": [
    "- Graphically"
   ]
  },
  {
   "cell_type": "code",
   "execution_count": null,
   "metadata": {},
   "outputs": [],
   "source": [
    "all_week_days = cleaned_reformed['Release_week_day'].dropna().str.split(', ').sum()\n",
    "day_counts = Counter(all_week_days)\n",
    "\n",
    "# Identify the most frequent genre\n",
    "most_all_week_days = genre_counts.most_common(1)[0]\n",
    "day_counts"
   ]
  },
  {
   "cell_type": "code",
   "execution_count": null,
   "metadata": {},
   "outputs": [],
   "source": [
    "## Days in which most movies are released\n",
    "wordcloud = WordCloud(width=800, height=400, background_color='black', colormap='viridis')\n",
    "wordcloud.generate_from_frequencies(day_counts)\n",
    "\n",
    "# Plot word cloud\n",
    "plt.figure(figsize=(10, 5))\n",
    "plt.imshow(wordcloud, interpolation='bilinear')\n",
    "plt.axis('off')\n",
    "plt.title('Week Days In Which Movies Are Mostly Released')\n",
    "plt.show()"
   ]
  },
  {
   "cell_type": "markdown",
   "metadata": {},
   "source": [
    "\n",
    "##### We see that most movies are released on Friday,Wednesday and Thurseday"
   ]
  },
  {
   "cell_type": "code",
   "execution_count": null,
   "metadata": {},
   "outputs": [],
   "source": [
    "cleaned_reformed.columns"
   ]
  },
  {
   "cell_type": "markdown",
   "metadata": {},
   "source": [
    "- Statistics"
   ]
  },
  {
   "cell_type": "code",
   "execution_count": null,
   "metadata": {},
   "outputs": [],
   "source": [
    "cleaned_reformed.groupby(['Release_week_day'],as_index=False)['Release_week_day'].agg({'count'})\n"
   ]
  },
  {
   "cell_type": "markdown",
   "metadata": {},
   "source": [
    "### We see that most movies are released on Friday,Wednesday and Thurseday"
   ]
  },
  {
   "cell_type": "markdown",
   "metadata": {},
   "source": [
    "## **The months**"
   ]
  },
  {
   "cell_type": "code",
   "execution_count": null,
   "metadata": {},
   "outputs": [],
   "source": [
    "cleaned_reformed.columns"
   ]
  },
  {
   "cell_type": "code",
   "execution_count": null,
   "metadata": {},
   "outputs": [],
   "source": [
    "all_months = cleaned_reformed['Release_Month_name'].dropna().str.split(', ').sum()\n",
    "month_counts = Counter(all_months)\n",
    "\n",
    "# Identify the most frequent day_counts\n",
    "most_all_months = month_counts.most_common(1)[0]\n",
    "month_counts"
   ]
  },
  {
   "cell_type": "code",
   "execution_count": null,
   "metadata": {},
   "outputs": [],
   "source": [
    "## Months in which movies are mostly released\n",
    "wordcloud = WordCloud(width=800, height=400, background_color='black', colormap='viridis')\n",
    "wordcloud.generate_from_frequencies(month_counts)\n",
    "\n",
    "# Plot word cloud\n",
    "plt.figure(figsize=(10, 5))\n",
    "plt.imshow(wordcloud, interpolation='bilinear')\n",
    "plt.axis('off')\n",
    "plt.title('Months in Which Movies Are Mostly Released')\n",
    "plt.show()\n"
   ]
  },
  {
   "cell_type": "markdown",
   "metadata": {},
   "source": [
    "### **Most movies are released in December, November and june**"
   ]
  },
  {
   "cell_type": "code",
   "execution_count": null,
   "metadata": {},
   "outputs": [],
   "source": [
    "cleaned_reformed.groupby(['Release_Month_name'],as_index=False)['Release_Month_name'].agg({'count'})\n"
   ]
  },
  {
   "cell_type": "markdown",
   "metadata": {},
   "source": [
    "#### **Most movies are released in December, November and june**"
   ]
  },
  {
   "cell_type": "markdown",
   "metadata": {},
   "source": [
    "# **Using statistical analysis and visualization techniques**"
   ]
  },
  {
   "cell_type": "code",
   "execution_count": null,
   "metadata": {},
   "outputs": [],
   "source": [
    "## checking for numerical columns\n",
    "numerical_cols = cleaned_reformed.select_dtypes(include=['int64', 'float64'])\n",
    "numerical_cols.columns"
   ]
  },
  {
   "cell_type": "code",
   "execution_count": null,
   "metadata": {},
   "outputs": [],
   "source": [
    "\n",
    "# Function to convert time format to minutes\n",
    "def convert_to_minutes(length):\n",
    "    if isinstance(length, str):  # Ensure it's a string before processing\n",
    "        length = length.strip()  # Remove extra spaces\n",
    "        if \":\" in length:  # Handle HH:MM:SS or MM:SS formats\n",
    "            parts = list(map(int, length.split(\":\")))  # Split into components\n",
    "            if len(parts) == 3:  # If format is HH:MM:SS\n",
    "                return parts[0] * 60 + parts[1]  # Convert hours to minutes\n",
    "            elif len(parts) == 2:  # If format is MM:SS\n",
    "                return parts[0]  # Keep minutes only\n",
    "        elif \"min\" in length:  # Handle '123min' format\n",
    "            return int(length.replace(\"min\", \"\").strip())\n",
    "    return None  # Return None for invalid values\n",
    "\n",
    "# Apply the function to the column\n",
    "cleaned_reformed[\"movie_length\"] = cleaned_reformed[\"movie_length\"].apply(convert_to_minutes)\n",
    "\n",
    "# Check if conversion is successful\n",
    "print(cleaned_reformed[\"movie_length\"].head())\n"
   ]
  },
  {
   "cell_type": "code",
   "execution_count": null,
   "metadata": {},
   "outputs": [],
   "source": []
  },
  {
   "cell_type": "code",
   "execution_count": null,
   "metadata": {},
   "outputs": [],
   "source": [
    "## checking for numerical columns\n",
    "numerical_cols = cleaned_reformed.select_dtypes(include=['int64', 'float64'])\n",
    "numerical_cols.columns"
   ]
  },
  {
   "cell_type": "code",
   "execution_count": null,
   "metadata": {},
   "outputs": [],
   "source": [
    "## using visualization techniques\n",
    "\n",
    "\n",
    "\n",
    "# Compute correlation matrix\n",
    "correlation_matrix = numerical_cols.corr()\n",
    "\n",
    "# Plot heatmap\n",
    "plt.figure(figsize=(10, 6))\n",
    "sns.heatmap(correlation_matrix, annot=True, cmap=\"coolwarm\", fmt=\".2f\", linewidths=0.5)\n",
    "plt.title(\"Correlation Matrix of Movie Parameters\")\n",
    "plt.show()\n",
    "\n",
    "# Identify highest correlations with IMDb Rating\n",
    "correlation_with_rating = correlation_matrix[\"rating\"].sort_values(ascending=False)\n",
    "print(\"Top Correlated Features with IMDb Rating:\\n\", correlation_with_rating)\n",
    "\n",
    "# Scatter plots for key correlated features\n",
    "key_features = [\"movie_length\", \"vote_count\", \"release_year\"]  \n",
    "fig, axes = plt.subplots(1, 3, figsize=(15, 5))\n",
    "\n",
    "for i, feature in enumerate(key_features):\n",
    "    sns.scatterplot(x=numerical_cols[feature], y=numerical_cols[\"rating\"], ax=axes[i], alpha=0.6)\n",
    "    axes[i].set_title(f\"IMDb Rating vs {feature.capitalize()}\")\n",
    "    axes[i].set_xlabel(feature.capitalize())\n",
    "    axes[i].set_ylabel(\"IMDb Rating\")\n",
    "\n",
    "plt.tight_layout()\n",
    "plt.show()\n"
   ]
  },
  {
   "cell_type": "code",
   "execution_count": null,
   "metadata": {},
   "outputs": [],
   "source": [
    "## pairplot\n",
    "sns.pairplot(cleaned_reformed)\n"
   ]
  },
  {
   "cell_type": "code",
   "execution_count": null,
   "metadata": {},
   "outputs": [],
   "source": [
    "cleaned_reformed.describe()"
   ]
  },
  {
   "cell_type": "markdown",
   "metadata": {},
   "source": [
    "\n",
    "## **Satistical analysis**"
   ]
  },
  {
   "cell_type": "code",
   "execution_count": null,
   "metadata": {},
   "outputs": [],
   "source": [
    "## convert the Box Office Gross into integer\n",
    "cleaned_reformed[\"Box Office Gross\"] = cleaned_reformed[\"Box Office Gross\"].apply(lambda x: int(x.replace(\"$\", \"\").replace(\",\", \"\").strip()) if isinstance(x, str) and x.replace(\"$\", \"\").replace(\",\", \"\").strip().isdigit() else None)\n"
   ]
  },
  {
   "cell_type": "code",
   "execution_count": null,
   "metadata": {},
   "outputs": [],
   "source": [
    "cleaned_reformed.head(5)"
   ]
  },
  {
   "cell_type": "code",
   "execution_count": null,
   "metadata": {},
   "outputs": [],
   "source": [
    "# reformed columns\n",
    "cleaned_reformed.columns"
   ]
  },
  {
   "cell_type": "code",
   "execution_count": null,
   "metadata": {},
   "outputs": [],
   "source": [
    "# basic statistics\n",
    "boxoffice_stats = cleaned_reformed[\"Box Office Gross\"].describe()\n",
    "print(boxoffice_stats)\n"
   ]
  },
  {
   "cell_type": "markdown",
   "metadata": {},
   "source": [
    "### Box Plot to Identify Outliers"
   ]
  },
  {
   "cell_type": "code",
   "execution_count": null,
   "metadata": {},
   "outputs": [],
   "source": [
    "plt.figure(figsize=(8,4))\n",
    "sns.boxplot(x=cleaned_reformed[\"Box Office Gross\"], color=\"blue\")\n",
    "plt.xlabel(\"Box Office Gross ($)\")\n",
    "plt.title(\"Box Office Gross Boxplot showing the movies that earned way more  than others\")\n",
    "plt.show()\n"
   ]
  },
  {
   "cell_type": "markdown",
   "metadata": {},
   "source": [
    "###  Outliers are showing the movies that earned way more  than others."
   ]
  },
  {
   "cell_type": "markdown",
   "metadata": {},
   "source": [
    "## Top 10 Highest-Grossing Movies"
   ]
  },
  {
   "cell_type": "code",
   "execution_count": null,
   "metadata": {},
   "outputs": [],
   "source": [
    "# Display top 10 highest-grossing movies\n",
    "top_10_movies = cleaned_reformed.sort_values(by=\"Box Office Gross\", ascending=False)[[\"title\", \"Box Office Gross\"]].head(10)\n",
    "print(top_10_movies)\n"
   ]
  },
  {
   "cell_type": "code",
   "execution_count": null,
   "metadata": {},
   "outputs": [],
   "source": [
    "cleaned_reformed.columns"
   ]
  },
  {
   "cell_type": "code",
   "execution_count": null,
   "metadata": {},
   "outputs": [],
   "source": [
    "# # Display top 10 highest-grossing movies\n",
    "# print(\"Top 10 highest-grossing movies:\")\n",
    "\n",
    "# for index, row in top_10_movies.iterrows():\n",
    "#     print(f\"{index+1}. {row['title']} - ${row['Box Office Gross']:,}\")\n",
    "#     print()\n",
    "#     # Print release year and genre\n",
    "#     print(f\"Release Year: {row['release_year']}\")\n",
    "#     print(f\"Genres: {row['genres']}\")\n",
    "#     print()  # Empty line for better readability\n",
    "#     # Print a line separator\n",
    "#     print(\"-\" * 50)\n",
    "#     print()\n",
    "#     # Print a line separator\n",
    "#     print()\n",
    "#     # Calculate and print average box office gross per genre\n",
    "#     genre_avg_gross = cleaned_reformed.groupby(\"genres\")[\"Box Office Gross\"].mean().sort_values(ascending=False)\n",
    "#     print(\"Average Box Office Gross per Genre:\")\n",
    "#     for genre, avg_gross in genre_avg_gross.items():\n",
    "#         print(f\"{genre}: ${avg_gross:,.2f}\")\n",
    "#         print()  # Empty line for better readability\n",
    "#         # Print a line separator\n",
    "#         print()\n",
    "        \n",
    "                                                                       \n",
    "        \n"
   ]
  },
  {
   "cell_type": "code",
   "execution_count": null,
   "metadata": {},
   "outputs": [],
   "source": [
    "\n",
    "# Create a dictionary: {title: Box Office Gross}\n",
    "title_gross_dict = dict(zip(cleaned_reformed[\"title\"], cleaned_reformed[\"Box Office Gross\"]))\n",
    "# Normalize values for better visualization\n",
    "max_gross = max(title_gross_dict.values())\n",
    "normalized_dict = {title: (gross / max_gross) * 100 for title, gross in title_gross_dict.items()}\n",
    "\n",
    "# Generate Word Cloud\n",
    "wordcloud = WordCloud(width=1000, height=600, background_color=\"black\", colormap=\"coolwarm\",\n",
    "                      max_words=100, relative_scaling=0.5).generate_from_frequencies(normalized_dict)\n",
    "\n",
    "# Display Word Cloud\n",
    "plt.figure(figsize=(12, 6))\n",
    "plt.imshow(wordcloud, interpolation=\"bilinear\")\n",
    "plt.axis(\"off\")  # Hide axes\n",
    "plt.title(\"Word Cloud of Movie Titles Based on Box Office Gross\", fontsize=14)\n",
    "plt.show()\n"
   ]
  },
  {
   "cell_type": "code",
   "execution_count": null,
   "metadata": {},
   "outputs": [],
   "source": [
    "# Display top 10 highest-grossing movies\n",
    "top_10_movies = cleaned_reformed.sort_values(by=\"Box Office Gross\", ascending=False)[[\"title\", \"Box Office Gross\"]].head(10)\n",
    "print(top_10_movies)"
   ]
  }
 ],
 "metadata": {
  "kernelspec": {
   "display_name": "Python 3",
   "language": "python",
   "name": "python3"
  },
  "language_info": {
   "codemirror_mode": {
    "name": "ipython",
    "version": 3
   },
   "file_extension": ".py",
   "mimetype": "text/x-python",
   "name": "python",
   "nbconvert_exporter": "python",
   "pygments_lexer": "ipython3",
   "version": "3.13.2"
  }
 },
 "nbformat": 4,
 "nbformat_minor": 2
}
